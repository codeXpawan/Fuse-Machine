{
 "cells": [
  {
   "cell_type": "markdown",
   "id": "0b40b3d2",
   "metadata": {},
   "source": [
    "## Prerequisites before starting\n",
    "\n",
    "    -Intermediate Python knowledge\n",
    "    -Git\n",
    "    -Mathematics\n",
    "        -Linear Algebra\n",
    "        -Calculus\n",
    "        -Probability & Statistics"
   ]
  },
  {
   "cell_type": "markdown",
   "id": "3e347ca6",
   "metadata": {},
   "source": [
    "### Task 1: Solving Farmer, Fox, Goose and Grain Problem\n",
    "\n",
    "Task description:\n",
    "The Farmer, Fox, Goose and Grain problem is a classic river crossing puzzle. The goal is to get the farmer, fox, goose, and grain across the river without leaving the fox alone with the goose or the goose alone with the grain.\n",
    "The farmer can only take one item at a time across the river. The challenge is to find a sequence of moves that allows all four to cross the river safely.\n",
    "\n",
    "### From Human Intelligence\n",
    "1. Take the goose across the river.\n",
    "2. Return alone.\n",
    "3. Take the fox across the river.\n",
    "4. Bring the goose back.\n",
    "5. Take the grain across the river.\n",
    "6. Return alone.\n",
    "7. Take the goose across the river.\n",
    "\n",
    "Now let's implement the solution in Python. Before we start, We have to gain the knowledge of DFS and BFS algorithms."
   ]
  },
  {
   "cell_type": "code",
   "execution_count": 5,
   "id": "8712bdec",
   "metadata": {},
   "outputs": [],
   "source": [
    "def dfs(graph, start, goal, visited=None):\n",
    "    if visited is None:\n",
    "        visited = set()\n",
    "    visited.add(start)\n",
    "    if start == goal:\n",
    "        return [start]\n",
    "    for neighbor in graph[start]:\n",
    "        if neighbor not in visited:\n",
    "            path = dfs(graph, neighbor, goal, visited)\n",
    "            if path:\n",
    "                return [start] + path\n",
    "    return \"\""
   ]
  },
  {
   "cell_type": "code",
   "execution_count": 6,
   "id": "d93b667d",
   "metadata": {},
   "outputs": [],
   "source": [
    "def bfs(graph, start, goal):\n",
    "    visited = set()\n",
    "    queue = [[start]]\n",
    "    while queue:\n",
    "        path = queue.pop(0)\n",
    "        node = path[-1]\n",
    "        if node == goal:\n",
    "            return path\n",
    "        if node not in visited:\n",
    "            visited.add(node)\n",
    "            for neighbor in graph[node]:\n",
    "                new_path = list(path)\n",
    "                new_path.append(neighbor)\n",
    "                queue.append(new_path)\n",
    "    return \"\""
   ]
  },
  {
   "cell_type": "code",
   "execution_count": 8,
   "id": "943eb17c",
   "metadata": {},
   "outputs": [
    {
     "name": "stdout",
     "output_type": "stream",
     "text": [
      "['A', 'B', 'E', 'F']\n",
      "['A', 'C', 'F']\n"
     ]
    }
   ],
   "source": [
    "graph = {\n",
    "    'A': ['B', 'C'],\n",
    "    'B': ['A', 'D', 'E'],\n",
    "    'C': ['A', 'F'],\n",
    "    'D': ['B'],\n",
    "    'E': ['B', 'F'],\n",
    "    'F': ['C', 'E']\n",
    "}\n",
    "start_node = 'A'\n",
    "goal_node = 'F'\n",
    "\n",
    "dfs_result = dfs(graph, start_node, goal_node)\n",
    "print(dfs_result)\n",
    "bfs_result = bfs(graph, start_node, goal_node)\n",
    "print(bfs_result)"
   ]
  },
  {
   "cell_type": "code",
   "execution_count": 30,
   "id": "b60dc275",
   "metadata": {},
   "outputs": [],
   "source": [
    "import collections\n",
    "\n",
    "State = collections.namedtuple('State', ['farmer', 'fox', 'goose', 'grain'])\n",
    "\n",
    "locations = enumerate(['left', 'right'])"
   ]
  },
  {
   "cell_type": "code",
   "execution_count": 31,
   "id": "b8b46270",
   "metadata": {},
   "outputs": [],
   "source": [
    "start_state = State(farmer='left', fox='left', goose='left', grain='left')\n",
    "goal_state = State(farmer='right', fox='right', goose='right', grain='right')\n",
    "def is_valid(state):\n",
    "    fox_eats_goose = state.fox == state.goose and state.farmer != state.goose\n",
    "    goose_eats_grain = state.goose == state.grain and state.farmer != state.grain\n",
    "    if fox_eats_goose or goose_eats_grain:\n",
    "        return False\n",
    "    return True\n",
    "\n",
    "def next_state(state):\n",
    "    if state.farmer == 'left':\n",
    "        new_farmer = 'right'\n",
    "    else:\n",
    "        new_farmer = 'left'\n",
    "    candidate_states = []\n",
    "    if is_valid(state._replace(farmer=new_farmer)):\n",
    "        candidate_states.append(state._replace(farmer=new_farmer))\n",
    "    for item in ['fox', 'goose', 'grain']:\n",
    "        if getattr(state, item) == state.farmer:\n",
    "            # new_state = state._replace(farmer=new_farmer)\n",
    "            new_state = state._replace(**{item: new_farmer}, farmer=new_farmer)\n",
    "            if is_valid(new_state):\n",
    "                candidate_states.append(new_state)\n",
    "    return candidate_states"
   ]
  },
  {
   "cell_type": "code",
   "execution_count": 32,
   "id": "79a9dacd",
   "metadata": {},
   "outputs": [
    {
     "data": {
      "text/plain": [
       "[State(farmer='left', fox='left', goose='right', grain='left'),\n",
       " State(farmer='left', fox='right', goose='left', grain='left')]"
      ]
     },
     "execution_count": 32,
     "metadata": {},
     "output_type": "execute_result"
    }
   ],
   "source": [
    "next_state(State(farmer='right', fox='right', goose='right', grain='left'))"
   ]
  },
  {
   "cell_type": "code",
   "execution_count": 33,
   "id": "7fcb7984",
   "metadata": {},
   "outputs": [
    {
     "name": "stdout",
     "output_type": "stream",
     "text": [
      "[State(farmer='left', fox='left', goose='left', grain='left'), State(farmer='right', fox='left', goose='right', grain='left'), State(farmer='left', fox='left', goose='right', grain='left'), State(farmer='right', fox='right', goose='right', grain='left'), State(farmer='left', fox='right', goose='left', grain='left'), State(farmer='right', fox='right', goose='left', grain='right'), State(farmer='left', fox='right', goose='left', grain='right'), State(farmer='right', fox='right', goose='right', grain='right')]\n"
     ]
    }
   ],
   "source": [
    "\n",
    "\n",
    "def bfs_states(start_state, goal_state):\n",
    "    visited = set()\n",
    "    queue = [[start_state]]\n",
    "    while queue:\n",
    "        path = queue.pop(0)\n",
    "        # print(path)\n",
    "        state = path[-1]\n",
    "        if state == goal_state:\n",
    "            return path\n",
    "        if state not in visited:\n",
    "            visited.add(state)\n",
    "            for next_stat in next_state(state):\n",
    "                new_path = list(path)\n",
    "                new_path.append(next_stat)\n",
    "                queue.append(new_path)\n",
    "\n",
    "    return \"\"\n",
    "\n",
    "bfs_result = bfs_states(start_state, goal_state)\n",
    "# for state in bfs_result:\n",
    "#     print(state)\n",
    "print(bfs_result)"
   ]
  },
  {
   "cell_type": "code",
   "execution_count": null,
   "id": "df493d51",
   "metadata": {},
   "outputs": [],
   "source": []
  }
 ],
 "metadata": {
  "kernelspec": {
   "display_name": "myenv",
   "language": "python",
   "name": "python3"
  },
  "language_info": {
   "codemirror_mode": {
    "name": "ipython",
    "version": 3
   },
   "file_extension": ".py",
   "mimetype": "text/x-python",
   "name": "python",
   "nbconvert_exporter": "python",
   "pygments_lexer": "ipython3",
   "version": "3.12.3"
  }
 },
 "nbformat": 4,
 "nbformat_minor": 5
}
