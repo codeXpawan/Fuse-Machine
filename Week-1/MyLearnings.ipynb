{
 "cells": [
  {
   "cell_type": "markdown",
   "id": "0b40b3d2",
   "metadata": {},
   "source": [
    "## Prerequisites before starting\n",
    "\n",
    "    -Intermediate Python knowledge\n",
    "    -Git\n",
    "    -Mathematics\n",
    "        -Linear Algebra\n",
    "        -Calculus\n",
    "        -Probability & Statistics"
   ]
  },
  {
   "cell_type": "markdown",
   "id": "3e347ca6",
   "metadata": {},
   "source": [
    "### Task 1: Solving Farmer, Fox, Goose and Grain Problem\n",
    "\n",
    "Task description:\n",
    "The Farmer, Fox, Goose and Grain problem is a classic river crossing puzzle. The goal is to get the farmer, fox, goose, and grain across the river without leaving the fox alone with the goose or the goose alone with the grain.\n",
    "The farmer can only take one item at a time across the river. The challenge is to find a sequence of moves that allows all four to cross the river safely.\n",
    "\n",
    "### From Human Intelligence\n",
    "1. Take the goose across the river.\n",
    "2. Return alone.\n",
    "3. Take the fox across the river.\n",
    "4. Bring the goose back.\n",
    "5. Take the grain across the river.\n",
    "6. Return alone.\n",
    "7. Take the goose across the river.\n",
    "\n",
    "Now let's implement the solution in Python. Before we start, We have to gain the knowledge of DFS and BFS algorithms."
   ]
  },
  {
   "cell_type": "code",
   "execution_count": null,
   "id": "8712bdec",
   "metadata": {
    "vscode": {
     "languageId": "plaintext"
    }
   },
   "outputs": [],
   "source": [
    "def dfs(graph, start, visited=None):\n",
    "    if visited is None:\n",
    "        visited = set()\n",
    "    visited.add(start)\n",
    "    for neighbor in graph[start]:\n",
    "        if neighbor not in visited:\n",
    "            dfs(graph, neighbor, visited)\n",
    "    return visited"
   ]
  },
  {
   "cell_type": "code",
   "execution_count": null,
   "id": "943eb17c",
   "metadata": {
    "vscode": {
     "languageId": "plaintext"
    }
   },
   "outputs": [],
   "source": []
  }
 ],
 "metadata": {
  "language_info": {
   "name": "python"
  }
 },
 "nbformat": 4,
 "nbformat_minor": 5
}
